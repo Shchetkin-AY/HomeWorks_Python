{
 "cells": [
  {
   "cell_type": "markdown",
   "id": "57d2404c-901c-4635-9192-7603e52257b6",
   "metadata": {},
   "source": [
    "Задача 1. Дано натуральное число N. Найдите значение выражения:\u000b",
    "N + NN + NNN\n",
    "N может быть любой длины."
   ]
  },
  {
   "cell_type": "code",
   "execution_count": 1,
   "id": "217f6bb3-111d-448d-85ad-3cccdc976226",
   "metadata": {
    "tags": []
   },
   "outputs": [
    {
     "name": "stdin",
     "output_type": "stream",
     "text": [
      "Введите число:  132\n"
     ]
    }
   ],
   "source": [
    "num = int(input(\"Введите число: \"))"
   ]
  },
  {
   "cell_type": "code",
   "execution_count": 2,
   "id": "9620d2af-7845-4e2f-b052-14a5270d8de4",
   "metadata": {},
   "outputs": [
    {
     "name": "stdout",
     "output_type": "stream",
     "text": [
      "132264396\n"
     ]
    }
   ],
   "source": [
    "print(num + int(str(num)*2) + int(str(num)*3))"
   ]
  },
  {
   "cell_type": "markdown",
   "id": "38f60fbf-e8aa-45c2-93da-6218c6425c65",
   "metadata": {},
   "source": [
    "Задача 2. Задан массив из случайных цифр на 15 элементов. На вход подаётся трёхзначное натуральное число. Напишите программу, которая определяет, есть в массиве последовательность из трёх элементов, совпадающая с введённым числом."
   ]
  },
  {
   "cell_type": "code",
   "execution_count": 3,
   "id": "edd9201d-ee94-42d3-a1ff-9facc43ad7f7",
   "metadata": {},
   "outputs": [
    {
     "name": "stdout",
     "output_type": "stream",
     "text": [
      "[0, 8, 2, 8, 9, 6, 1, 0, 3, 4, 4, 9, 3, 9, 8]\n"
     ]
    }
   ],
   "source": [
    "from random import randint as RI\n",
    "numbers = [RI(0,9) for _ in range(15)]\n",
    "print(numbers)"
   ]
  },
  {
   "cell_type": "code",
   "execution_count": 4,
   "id": "2f6e97c7-5de1-41b4-88d6-da835ac46820",
   "metadata": {},
   "outputs": [
    {
     "name": "stdin",
     "output_type": "stream",
     "text": [
      "n to search:  938\n"
     ]
    },
    {
     "name": "stdout",
     "output_type": "stream",
     "text": [
      "[9, 3, 8]\n"
     ]
    }
   ],
   "source": [
    "query = list(map(int, input('n to search: ')))\n",
    "print(query)"
   ]
  },
  {
   "cell_type": "code",
   "execution_count": 5,
   "id": "069b4680-66a4-402d-a0ce-0959479d0cc2",
   "metadata": {},
   "outputs": [
    {
     "name": "stdout",
     "output_type": "stream",
     "text": [
      "NO\n"
     ]
    }
   ],
   "source": [
    "for i in range(len(numbers)-3):\n",
    "    if numbers[i:i+3] == query:\n",
    "        print('YES')\n",
    "        break\n",
    "else:\n",
    "    print('NO')"
   ]
  },
  {
   "cell_type": "markdown",
   "id": "b9cbd112-4751-4c7f-becd-94ea9af231d1",
   "metadata": {},
   "source": [
    "Задача 3. Найдите все простые несократимые дроби, лежащие между 0 и 1, знаменатель которых не превышает 11."
   ]
  },
  {
   "cell_type": "code",
   "execution_count": 7,
   "id": "b3b65589-b162-4196-ac2a-25fe52a6fed8",
   "metadata": {},
   "outputs": [
    {
     "name": "stdout",
     "output_type": "stream",
     "text": [
      "1/2\n",
      "1/3\n",
      "1/4\n",
      "1/5\n",
      "1/6\n",
      "1/7\n",
      "1/8\n",
      "1/9\n",
      "1/10\n",
      "1/11\n",
      "2/3\n",
      "2/5\n",
      "2/7\n",
      "2/9\n",
      "2/11\n",
      "3/4\n",
      "3/5\n",
      "3/7\n",
      "3/8\n",
      "3/10\n",
      "3/11\n",
      "4/5\n",
      "4/7\n",
      "4/9\n",
      "4/11\n",
      "5/6\n",
      "5/7\n",
      "5/8\n",
      "5/9\n",
      "5/11\n",
      "6/7\n",
      "6/11\n",
      "7/8\n",
      "7/9\n",
      "7/10\n",
      "7/11\n",
      "8/9\n",
      "8/11\n",
      "9/10\n",
      "9/11\n",
      "10/11\n"
     ]
    }
   ],
   "source": [
    "from fractions import Fraction\n",
    "z = 11\n",
    "used = set()\n",
    "for i in range(1,z):\n",
    "    for j in range(1,z+1):\n",
    "        if i < j and i//j != i/j and (n := Fraction(i,j)) not in used:\n",
    "            print(n)\n",
    "            used.add(n)"
   ]
  },
  {
   "cell_type": "code",
   "execution_count": null,
   "id": "d8dcc8d8-4014-40fd-b437-88ac82ccf014",
   "metadata": {},
   "outputs": [],
   "source": []
  }
 ],
 "metadata": {
  "kernelspec": {
   "display_name": "Python 3 (ipykernel)",
   "language": "python",
   "name": "python3"
  },
  "language_info": {
   "codemirror_mode": {
    "name": "ipython",
    "version": 3
   },
   "file_extension": ".py",
   "mimetype": "text/x-python",
   "name": "python",
   "nbconvert_exporter": "python",
   "pygments_lexer": "ipython3",
   "version": "3.10.4"
  }
 },
 "nbformat": 4,
 "nbformat_minor": 5
}
